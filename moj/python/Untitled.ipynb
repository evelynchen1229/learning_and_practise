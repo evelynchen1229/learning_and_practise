{
 "cells": [
  {
   "cell_type": "code",
   "execution_count": 1,
   "id": "1b774014-0d17-4574-a822-694cbffd5f86",
   "metadata": {},
   "outputs": [],
   "source": [
    "import pandas as pd"
   ]
  },
  {
   "cell_type": "code",
   "execution_count": 2,
   "id": "e1c0e251-e084-426f-9693-5fc5a6d025ea",
   "metadata": {},
   "outputs": [],
   "source": [
    "gdw = pd.read_csv('../file/wu_alias/wu_alias.csv')"
   ]
  },
  {
   "cell_type": "code",
   "execution_count": 3,
   "id": "b4bb8d05-519d-4733-9afb-3c5f340de267",
   "metadata": {},
   "outputs": [
    {
     "data": {
      "text/html": [
       "<div>\n",
       "<style scoped>\n",
       "    .dataframe tbody tr th:only-of-type {\n",
       "        vertical-align: middle;\n",
       "    }\n",
       "\n",
       "    .dataframe tbody tr th {\n",
       "        vertical-align: top;\n",
       "    }\n",
       "\n",
       "    .dataframe thead th {\n",
       "        text-align: right;\n",
       "    }\n",
       "</style>\n",
       "<table border=\"1\" class=\"dataframe\">\n",
       "  <thead>\n",
       "    <tr style=\"text-align: right;\">\n",
       "      <th></th>\n",
       "      <th>user_signon_id</th>\n",
       "      <th>wa</th>\n",
       "      <th>email</th>\n",
       "    </tr>\n",
       "  </thead>\n",
       "  <tbody>\n",
       "    <tr>\n",
       "      <th>0</th>\n",
       "      <td>FLAUX1905@476006</td>\n",
       "      <td>B88BFE19-723E-49F9-AC37-8C81DF885C0E</td>\n",
       "      <td>LordJustice.Flaux@ejudiciary.net</td>\n",
       "    </tr>\n",
       "    <tr>\n",
       "      <th>1</th>\n",
       "      <td>MAGBITANG2883@476006</td>\n",
       "      <td>9B182C8D-1A28-4ABE-A8F7-139FFE95FB23</td>\n",
       "      <td>alexandra.magbitang@ejudiciary.net</td>\n",
       "    </tr>\n",
       "    <tr>\n",
       "      <th>2</th>\n",
       "      <td>PHILLIPS7577@476006</td>\n",
       "      <td>A6F5FE61-2714-441D-A5BD-425352608DAB</td>\n",
       "      <td>DJ.Marshall.Phillips@eJudiciary.net</td>\n",
       "    </tr>\n",
       "    <tr>\n",
       "      <th>3</th>\n",
       "      <td>MCUSH@DCA</td>\n",
       "      <td>a52045c9-a71c-4bdc-a34b-32ea73bc5c7d</td>\n",
       "      <td>NaN</td>\n",
       "    </tr>\n",
       "    <tr>\n",
       "      <th>4</th>\n",
       "      <td>JPRATT@DCA</td>\n",
       "      <td>5658099b-dbaa-4940-8282-4b124bc29fb0</td>\n",
       "      <td>NaN</td>\n",
       "    </tr>\n",
       "  </tbody>\n",
       "</table>\n",
       "</div>"
      ],
      "text/plain": [
       "         user_signon_id                                    wa  \\\n",
       "0      FLAUX1905@476006  B88BFE19-723E-49F9-AC37-8C81DF885C0E   \n",
       "1  MAGBITANG2883@476006  9B182C8D-1A28-4ABE-A8F7-139FFE95FB23   \n",
       "2   PHILLIPS7577@476006  A6F5FE61-2714-441D-A5BD-425352608DAB   \n",
       "3             MCUSH@DCA  a52045c9-a71c-4bdc-a34b-32ea73bc5c7d   \n",
       "4            JPRATT@DCA  5658099b-dbaa-4940-8282-4b124bc29fb0   \n",
       "\n",
       "                                 email  \n",
       "0     LordJustice.Flaux@ejudiciary.net  \n",
       "1   alexandra.magbitang@ejudiciary.net  \n",
       "2  DJ.Marshall.Phillips@eJudiciary.net  \n",
       "3                                  NaN  \n",
       "4                                  NaN  "
      ]
     },
     "execution_count": 3,
     "metadata": {},
     "output_type": "execute_result"
    }
   ],
   "source": [
    "gdw.head()"
   ]
  },
  {
   "cell_type": "code",
   "execution_count": 56,
   "id": "2a5d60b0-d780-4dff-871c-30338942eb87",
   "metadata": {},
   "outputs": [],
   "source": [
    "gdw_copy = (gdw.fillna(0)\n",
    " .assign(fre = lambda x: x.groupby('user_signon_id')['wa'].transform('count'))\n",
    ")"
   ]
  },
  {
   "cell_type": "code",
   "execution_count": 21,
   "id": "5dbd513f-fcfe-4c21-bc2f-0c7c48a4e9b7",
   "metadata": {},
   "outputs": [
    {
     "data": {
      "text/plain": [
       "array([1, 2])"
      ]
     },
     "execution_count": 21,
     "metadata": {},
     "output_type": "execute_result"
    }
   ],
   "source": [
    "gdw_copy['fre'].unique()"
   ]
  },
  {
   "cell_type": "code",
   "execution_count": 53,
   "id": "e9cdd1c0-9332-4a54-95a7-16a414143c6a",
   "metadata": {},
   "outputs": [],
   "source": [
    "gdw_copy.drop(index = gdw_copy.index[(gdw_copy['fre']>1) & (gdw_copy['email']==0)],axis=0,inplace = True)"
   ]
  },
  {
   "cell_type": "code",
   "execution_count": 54,
   "id": "ca95e29d-9c1d-4be4-86fe-95c9ddf800bc",
   "metadata": {},
   "outputs": [
    {
     "data": {
      "text/html": [
       "<div>\n",
       "<style scoped>\n",
       "    .dataframe tbody tr th:only-of-type {\n",
       "        vertical-align: middle;\n",
       "    }\n",
       "\n",
       "    .dataframe tbody tr th {\n",
       "        vertical-align: top;\n",
       "    }\n",
       "\n",
       "    .dataframe thead th {\n",
       "        text-align: right;\n",
       "    }\n",
       "</style>\n",
       "<table border=\"1\" class=\"dataframe\">\n",
       "  <thead>\n",
       "    <tr style=\"text-align: right;\">\n",
       "      <th></th>\n",
       "      <th>user_signon_id</th>\n",
       "      <th>wa</th>\n",
       "      <th>email</th>\n",
       "      <th>fre</th>\n",
       "    </tr>\n",
       "  </thead>\n",
       "  <tbody>\n",
       "    <tr>\n",
       "      <th>0</th>\n",
       "      <td>FLAUX1905@476006</td>\n",
       "      <td>B88BFE19-723E-49F9-AC37-8C81DF885C0E</td>\n",
       "      <td>LordJustice.Flaux@ejudiciary.net</td>\n",
       "      <td>1</td>\n",
       "    </tr>\n",
       "    <tr>\n",
       "      <th>1</th>\n",
       "      <td>MAGBITANG2883@476006</td>\n",
       "      <td>9B182C8D-1A28-4ABE-A8F7-139FFE95FB23</td>\n",
       "      <td>alexandra.magbitang@ejudiciary.net</td>\n",
       "      <td>1</td>\n",
       "    </tr>\n",
       "    <tr>\n",
       "      <th>2</th>\n",
       "      <td>PHILLIPS7577@476006</td>\n",
       "      <td>A6F5FE61-2714-441D-A5BD-425352608DAB</td>\n",
       "      <td>DJ.Marshall.Phillips@eJudiciary.net</td>\n",
       "      <td>1</td>\n",
       "    </tr>\n",
       "    <tr>\n",
       "      <th>3</th>\n",
       "      <td>MCUSH@DCA</td>\n",
       "      <td>a52045c9-a71c-4bdc-a34b-32ea73bc5c7d</td>\n",
       "      <td>0</td>\n",
       "      <td>1</td>\n",
       "    </tr>\n",
       "    <tr>\n",
       "      <th>4</th>\n",
       "      <td>JPRATT@DCA</td>\n",
       "      <td>5658099b-dbaa-4940-8282-4b124bc29fb0</td>\n",
       "      <td>0</td>\n",
       "      <td>1</td>\n",
       "    </tr>\n",
       "    <tr>\n",
       "      <th>...</th>\n",
       "      <td>...</td>\n",
       "      <td>...</td>\n",
       "      <td>...</td>\n",
       "      <td>...</td>\n",
       "    </tr>\n",
       "    <tr>\n",
       "      <th>13098</th>\n",
       "      <td>103855@DCA</td>\n",
       "      <td>0</td>\n",
       "      <td>0</td>\n",
       "      <td>1</td>\n",
       "    </tr>\n",
       "    <tr>\n",
       "      <th>13099</th>\n",
       "      <td>AMEADOWS@DCA</td>\n",
       "      <td>0</td>\n",
       "      <td>0</td>\n",
       "      <td>1</td>\n",
       "    </tr>\n",
       "    <tr>\n",
       "      <th>13100</th>\n",
       "      <td>100089@DCA</td>\n",
       "      <td>0</td>\n",
       "      <td>0</td>\n",
       "      <td>1</td>\n",
       "    </tr>\n",
       "    <tr>\n",
       "      <th>13101</th>\n",
       "      <td>101889@DCA</td>\n",
       "      <td>0</td>\n",
       "      <td>0</td>\n",
       "      <td>1</td>\n",
       "    </tr>\n",
       "    <tr>\n",
       "      <th>13102</th>\n",
       "      <td>VWOOLF@DCA</td>\n",
       "      <td>0</td>\n",
       "      <td>0</td>\n",
       "      <td>1</td>\n",
       "    </tr>\n",
       "  </tbody>\n",
       "</table>\n",
       "<p>13102 rows × 4 columns</p>\n",
       "</div>"
      ],
      "text/plain": [
       "             user_signon_id                                    wa  \\\n",
       "0          FLAUX1905@476006  B88BFE19-723E-49F9-AC37-8C81DF885C0E   \n",
       "1      MAGBITANG2883@476006  9B182C8D-1A28-4ABE-A8F7-139FFE95FB23   \n",
       "2       PHILLIPS7577@476006  A6F5FE61-2714-441D-A5BD-425352608DAB   \n",
       "3                 MCUSH@DCA  a52045c9-a71c-4bdc-a34b-32ea73bc5c7d   \n",
       "4                JPRATT@DCA  5658099b-dbaa-4940-8282-4b124bc29fb0   \n",
       "...                     ...                                   ...   \n",
       "13098            103855@DCA                                     0   \n",
       "13099          AMEADOWS@DCA                                     0   \n",
       "13100            100089@DCA                                     0   \n",
       "13101            101889@DCA                                     0   \n",
       "13102            VWOOLF@DCA                                     0   \n",
       "\n",
       "                                     email  fre  \n",
       "0         LordJustice.Flaux@ejudiciary.net    1  \n",
       "1       alexandra.magbitang@ejudiciary.net    1  \n",
       "2      DJ.Marshall.Phillips@eJudiciary.net    1  \n",
       "3                                        0    1  \n",
       "4                                        0    1  \n",
       "...                                    ...  ...  \n",
       "13098                                    0    1  \n",
       "13099                                    0    1  \n",
       "13100                                    0    1  \n",
       "13101                                    0    1  \n",
       "13102                                    0    1  \n",
       "\n",
       "[13102 rows x 4 columns]"
      ]
     },
     "execution_count": 54,
     "metadata": {},
     "output_type": "execute_result"
    }
   ],
   "source": [
    "gdw_copy"
   ]
  },
  {
   "cell_type": "code",
   "execution_count": 57,
   "id": "3bcc65b8-fb02-4954-b26c-c807571ecaaa",
   "metadata": {},
   "outputs": [
    {
     "data": {
      "text/html": [
       "<div>\n",
       "<style scoped>\n",
       "    .dataframe tbody tr th:only-of-type {\n",
       "        vertical-align: middle;\n",
       "    }\n",
       "\n",
       "    .dataframe tbody tr th {\n",
       "        vertical-align: top;\n",
       "    }\n",
       "\n",
       "    .dataframe thead th {\n",
       "        text-align: right;\n",
       "    }\n",
       "</style>\n",
       "<table border=\"1\" class=\"dataframe\">\n",
       "  <thead>\n",
       "    <tr style=\"text-align: right;\">\n",
       "      <th></th>\n",
       "      <th>user_signon_id</th>\n",
       "      <th>wa</th>\n",
       "      <th>email</th>\n",
       "      <th>fre</th>\n",
       "    </tr>\n",
       "  </thead>\n",
       "  <tbody>\n",
       "    <tr>\n",
       "      <th>8135</th>\n",
       "      <td>MELLOR3545@476006</td>\n",
       "      <td>99034853-EC22-451D-AC7D-3F35678B8980</td>\n",
       "      <td>0</td>\n",
       "      <td>2</td>\n",
       "    </tr>\n",
       "  </tbody>\n",
       "</table>\n",
       "</div>"
      ],
      "text/plain": [
       "         user_signon_id                                    wa email  fre\n",
       "8135  MELLOR3545@476006  99034853-EC22-451D-AC7D-3F35678B8980     0    2"
      ]
     },
     "execution_count": 57,
     "metadata": {},
     "output_type": "execute_result"
    }
   ],
   "source": [
    "gdw_copy[(gdw_copy['fre']>1) & (gdw_copy['email']==0)]"
   ]
  },
  {
   "cell_type": "code",
   "execution_count": null,
   "id": "8bc66c5c-2984-42b7-9d56-c52f62dc5b11",
   "metadata": {},
   "outputs": [],
   "source": []
  }
 ],
 "metadata": {
  "kernelspec": {
   "display_name": "Python 3 (ipykernel)",
   "language": "python",
   "name": "python3"
  },
  "language_info": {
   "codemirror_mode": {
    "name": "ipython",
    "version": 3
   },
   "file_extension": ".py",
   "mimetype": "text/x-python",
   "name": "python",
   "nbconvert_exporter": "python",
   "pygments_lexer": "ipython3",
   "version": "3.8.10"
  }
 },
 "nbformat": 4,
 "nbformat_minor": 5
}
