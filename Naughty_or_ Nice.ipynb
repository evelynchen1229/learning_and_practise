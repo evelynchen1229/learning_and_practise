{
 "cells": [
  {
   "cell_type": "code",
   "execution_count": 36,
   "metadata": {},
   "outputs": [],
   "source": [
    "def non_zero(your_list):\n",
    "    return [i for i in your_list if i != 0]\n",
    "    \n",
    "\n",
    "def whatListamIon():\n",
    "    name_your_strings = input(\"say something. If you want to say more than one thing, please use';' to separate each phrase: \")\n",
    "    string_list = name_your_strings.split(';')\n",
    "    first_letter = [i[0] for i in string_list ]\n",
    "        \n",
    "    n = 0\n",
    "    for l in first_letter:\n",
    "        if l in [\"b\",\"f\",\"k\"]:\n",
    "            first_letter[n] = -1\n",
    "        elif l in [\"g\",\"s\",\"n\"]:\n",
    "            first_letter[n] = 1\n",
    "        else:\n",
    "            first_letter[n] = 0\n",
    "        n += 1\n",
    "        \n",
    "    if sum(first_letter) > 0: # more nice words than naughty words\n",
    "        return \"nice\"\n",
    "    elif sum(first_letter) < 0: # more naught words than nice words\n",
    "        return \"naughty\"\n",
    "    elif sum(non_zero(first_letter)) == 0 and len(non_zero(first_letter)) != 0: # same number of naught and nice words\n",
    "        return \"naughty\"\n",
    "    else: # no naughty/nice words exisiting\n",
    "        return \"neither nice nor naughty\"\n",
    "\n"
   ]
  },
  {
   "cell_type": "code",
   "execution_count": 37,
   "metadata": {},
   "outputs": [
    {
     "name": "stdout",
     "output_type": "stream",
     "text": [
      "say something. If you want to say more than one thing, please use';' to separate each phrase: wonder;let;ok\n",
      "neither nice nor naughty\n"
     ]
    }
   ],
   "source": [
    "result = whatListamIon()\n",
    "print (result)\n",
    "\n",
    "\n"
   ]
  },
  {
   "cell_type": "code",
   "execution_count": 29,
   "metadata": {},
   "outputs": [
    {
     "data": {
      "text/plain": [
       "0"
      ]
     },
     "execution_count": 29,
     "metadata": {},
     "output_type": "execute_result"
    }
   ],
   "source": [
    "sum([])"
   ]
  },
  {
   "cell_type": "code",
   "execution_count": 1,
   "metadata": {},
   "outputs": [],
   "source": [
    "'''variation'''\n",
    "def whatListamIon():\n",
    "    name_your_strings = input(\"say something. If you want to say more than one thing, please use';' to separate each phrase: \")\n",
    "    string_list = name_your_strings.split(';')\n",
    "    first_letter = [i[0] for i in string_list ]\n",
    "        \n",
    "    nice = 0\n",
    "    naughty = 0\n",
    "    for l in first_letter:\n",
    "        if l in [\"b\",\"f\",\"k\"]:\n",
    "            naughty += 1\n",
    "        elif l in [\"g\",\"s\",\"n\"]:\n",
    "            nice += 1\n",
    "        else:\n",
    "            pass\n",
    "        \n",
    "        \n",
    "    if nice > naughty: # more nice words than naughty words\n",
    "        return \"nice\"\n",
    "    elif nice < naughty or nice == naughty != 0: # more naught words than nice words\n",
    "        return \"naughty\"\n",
    "    else: # no naughty/nice words exisiting\n",
    "        return \"neither nice nor naughty\"\n",
    "\n"
   ]
  },
  {
   "cell_type": "code",
   "execution_count": 5,
   "metadata": {
    "scrolled": true
   },
   "outputs": [
    {
     "name": "stdout",
     "output_type": "stream",
     "text": [
      "say something. If you want to say more than one thing, please use';' to separate each phrase: bet;nice\n",
      "naughty\n"
     ]
    }
   ],
   "source": [
    "result = whatListamIon()\n",
    "print (result)\n",
    "\n",
    "\n",
    "\n"
   ]
  },
  {
   "cell_type": "code",
   "execution_count": null,
   "metadata": {},
   "outputs": [],
   "source": []
  }
 ],
 "metadata": {
  "kernelspec": {
   "display_name": "Python 3",
   "language": "python",
   "name": "python3"
  },
  "language_info": {
   "codemirror_mode": {
    "name": "ipython",
    "version": 3
   },
   "file_extension": ".py",
   "mimetype": "text/x-python",
   "name": "python",
   "nbconvert_exporter": "python",
   "pygments_lexer": "ipython3",
   "version": "3.8.6"
  }
 },
 "nbformat": 4,
 "nbformat_minor": 2
}
