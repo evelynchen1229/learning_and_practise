{
 "cells": [
  {
   "cell_type": "code",
   "execution_count": 70,
   "metadata": {},
   "outputs": [
    {
     "name": "stdout",
     "output_type": "stream",
     "text": [
      "10\n"
     ]
    }
   ],
   "source": [
    "import numpy as np\n",
    "\n",
    "def num_octet(ip):\n",
    "    \n",
    "    lp_list = ip.split('.')\n",
    "  \n",
    "    return len(lp_list)\n",
    "    \n",
    "    \n",
    "def num_ip(start,end):\n",
    "    start_list = np.array([int(i) for i in start.split('.')])\n",
    "    \n",
    "    end_list=np.array([int(i) for i in end.split('.')])\n",
    "    \n",
    "    coefficience = [255**n for n in range(3,-1,-1)]  \n",
    "    \n",
    "    num_ip = sum((end_list-start_list)*coefficience)\n",
    "\n",
    "     \n",
    "    return num_ip\n",
    "\n",
    "\n",
    "ip_start = '255.0.1.0'\n",
    "ip_end = '255.0.1.10'\n",
    "\n",
    "\n",
    "if num_octet(ip_start)==4 and num_octet(ip_end) ==4 and \\\n",
    "    ip_start >='0.0.0.0' and ip_start <='255.255.255.255' and \\\n",
    "    ip_end >='0.0.0.0' and ip_end <='255.255.255.255':\n",
    "    \n",
    "    if ip_end >ip_start:\n",
    "        print(num_ip(ip_start,ip_end))\n",
    "        \n",
    "    elif ip_end <= ip_start:\n",
    "        print (\"end range needs to be bigger than start range\")\n",
    "        \n",
    "else:\n",
    "    print(\"please put a valid IPv4 address\")\n",
    "\n",
    "    \n",
    "\n",
    "\n",
    "\n",
    "\n"
   ]
  },
  {
   "cell_type": "code",
   "execution_count": 53,
   "metadata": {},
   "outputs": [
    {
     "data": {
      "text/plain": [
       "True"
      ]
     },
     "execution_count": 53,
     "metadata": {},
     "output_type": "execute_result"
    }
   ],
   "source": [
    "ip='0.0.0.0.0'\n",
    "ip_try='255.254.255.255'\n",
    "#ip_try>'255.255.255.255'\n",
    "ip >'0.0.0.0'\n",
    "#for i in range(3,-1,-1):\n",
    "#    print (i)"
   ]
  },
  {
   "cell_type": "code",
   "execution_count": 61,
   "metadata": {},
   "outputs": [
    {
     "data": {
      "text/plain": [
       "15"
      ]
     },
     "execution_count": 61,
     "metadata": {},
     "output_type": "execute_result"
    }
   ],
   "source": [
    "len(ip_try)"
   ]
  },
  {
   "cell_type": "markdown",
   "metadata": {},
   "source": [
    "****\n",
    "<div class=\"alert alert-block alert-info\">\n",
    "    <b>Workings:</b><span style='color:blue'><em><strong>  version 1&2 </strong></em></span>\n",
    "</div>\n",
    "   "
   ]
  },
  {
   "cell_type": "code",
   "execution_count": null,
   "metadata": {},
   "outputs": [],
   "source": [
    " #start_list = [int(i) for i in start.split('.')]\n",
    "    #end_list= [int(i) for i in end.split('.')]\n",
    "       \n",
    "   #ip_num = sum([(end_list[3-n]-start_list[3-n])*256**n for n in range(3,-1,-1)])\n",
    "  \n",
    "   # ip_num = (end_list[0]-start_list[0])*(256**3) +(end_list[1]-start_list[1])*(256**2)+(end_list[2]-start_list[2])*(256**1)+(end_list[3]-start_list[3])\n",
    " \n",
    "    #print(coefficience)\n",
    "    \n",
    "   # print(test_list)"
   ]
  },
  {
   "cell_type": "markdown",
   "metadata": {},
   "source": [
    "* #### *`thoughts train`*"
   ]
  },
  {
   "cell_type": "code",
   "execution_count": null,
   "metadata": {},
   "outputs": [],
   "source": [
    "\n",
    "\n",
    "#list=[int(i) for i in IP_start.split('.')]\n",
    "#print(IP_start)\n",
    "#print(list)\n",
    "\n",
    "#count =3\n",
    "#polynomial=[]\n",
    "#for i in new_list:\n",
    "#    polynomial.append(str(count))\n",
    "#    count -= 1\n",
    "#print( polynomial)\n",
    "\n",
    "\n",
    "#data = np.array(list)\n",
    "#print(data)\n",
    "#ip_start =pd.Series(data,index=polynomial)\n",
    "#print(ip_start)\n",
    "\n",
    "#get index but in reverse order\n",
    "#new_list = list[::-1]\n",
    "#print(list)\n",
    "#print(new_list)\n",
    "#polynomial = [ new_list.index(i) for i in new_list]\n",
    "#print(polynomial)\n",
    "#challenge: count the right index for same value\n",
    "\n",
    "#for i in list:\n",
    "#    print(i)\n",
    "\n",
    "#for i in polynomial_2:\n",
    " #   print(i)\n",
    "\n",
    "#list = ip_start.keys()\n",
    "#polynomial_2=ip_start.values\n",
    "\n",
    "#print(ip_start.keys())\n",
    "#dictionary doesn't suppose duplicated values\n",
    "#challenge pair up number and polynomial_2"
   ]
  }
 ],
 "metadata": {
  "kernelspec": {
   "display_name": "Python 3",
   "language": "python",
   "name": "python3"
  },
  "language_info": {
   "codemirror_mode": {
    "name": "ipython",
    "version": 3
   },
   "file_extension": ".py",
   "mimetype": "text/x-python",
   "name": "python",
   "nbconvert_exporter": "python",
   "pygments_lexer": "ipython3",
   "version": "3.7.4"
  }
 },
 "nbformat": 4,
 "nbformat_minor": 2
}
